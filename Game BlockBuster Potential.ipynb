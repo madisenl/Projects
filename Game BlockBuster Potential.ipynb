{
 "cells": [
  {
   "cell_type": "markdown",
   "metadata": {},
   "source": [
    "# Game Blockbuster Potential: Analyzing the Success Rate of Action Games Across Gaming Platforms"
   ]
  },
  {
   "cell_type": "markdown",
   "metadata": {},
   "source": [
    "### Contribution Report\n",
    "\n",
    "<i>1. Johnny Powell completed parts 1, 2, and 4</i>\n",
    "\n",
    "<i>2. Madisen LeShoure completed part 1 and 4</i>\n",
    "\n",
    "<i>3. Jeevan Rathakrishnan completed part 3 and 4</i>"
   ]
  },
  {
   "cell_type": "markdown",
   "metadata": {},
   "source": [
    "# 1. Introduction"
   ]
  },
  {
   "cell_type": "code",
   "execution_count": 1,
   "metadata": {},
   "outputs": [],
   "source": [
    "import pandas as pd\n",
    "import matplotlib.pyplot as plt\n",
    "import seaborn as sns; sns.set()\n",
    "import math\n",
    "import numpy as np\n",
    "df = pd.read_csv('video_games.csv', encoding='unicode_escape')"
   ]
  },
  {
   "cell_type": "code",
   "execution_count": 2,
   "metadata": {},
   "outputs": [
    {
     "data": {
      "text/plain": [
       "Index(['ï»¿Console', 'Title', 'US Sales (millions)', 'Block4', 'Block2',\n",
       "       'Block1', 'Block0.5', 'YearReleased', '2004', '2005',\n",
       "       ...\n",
       "       'Tricks', 'Volleyball', 'Wakeboarding', 'Wrestling', 'FirstPerson',\n",
       "       'Platform', 'Isometric', 'SideScrolling', 'TopDown', 'ThirdPerson'],\n",
       "      dtype='object', length=166)"
      ]
     },
     "execution_count": 2,
     "metadata": {},
     "output_type": "execute_result"
    }
   ],
   "source": [
    "df.columns"
   ]
  },
  {
   "cell_type": "markdown",
   "metadata": {},
   "source": [
    "Our dataset is from the University of Portsmouth collected and curated by Dr. Joe Cox. This dataset focuses on video games and their statistics, containing data about the sales, gameplay characteristics, and playtime of over a thousand video games released between 2004 and 2010. The original dataset was used to provide insights into the factors that contribute to a video game becoming a blockbuster. Playtime data was collected via crowd sourcing. The dataset contains 1770 instances (rows) of games and 166 columns, each column recording the characteristics of each video game and the block-buster (sales) title each game achieved (if achieved). Our dataset represents a sample rather than a complete population. Due to the fact that the video game industry is vast and constantly evolving, our dataset only contains data within a specific time frame (2004 - 2010). It would be very challenging to collect data on every single game ever made. Our population of interest is all action games released between 2004 - 2010 across multiple gaming platforms. Because our dataset represents only a sample of video games, it would be best to take a random sample from all of the action video games we have so that our results are representative, generalizable and void of any potential biases.\n",
    "For our analysis we would like to examine the characteristics that contribute to a video game getting blockbuster status. To do so we aim to answer these questions: Is the proportion of action games that achieve Block0.5 status significantly less than 20%? & What are the mean and median sale amounts of action games that achieve blockbuster(0.5) status compared to those that do not?\n",
    "It can be extremely difficult to develop a game and it be successful. The gaming industry is very competitive and is evolving fast, so it is important for developers, publishers, platform holders, and investors to understand the factors that contribute to a game's success. Action games are one of the most popular gaming genres and they represent a large portion of the gaming market. The answers to our research questions could provide valuable insights that could impact decision-making across the industry. By providing data-driven insights into how specific factors contribute to a games success we can provide developers, publishers, platform holders, and investors with a blueprint for creating successful video games. Our research questions have the potential to influence which specific characteristics are incorporated into games, investment strategies for action games, identify how different characteristics incorporated into games perform on specific consoles, and overall how to combine all factors to create more successful action games."
   ]
  },
  {
   "cell_type": "markdown",
   "metadata": {},
   "source": [
    "Null Hypothesis (Ho): The proportion of games in the 'Action' genre that achieve \"Block0.5\" status is equal to 20% (p = 0.2). \n",
    "\n",
    "\n",
    "Alternative Hypothesis (Ha): The proportion of games in the 'Action' genre that achieve \"Block0.5\" status is less than 20% (p < 0.2)."
   ]
  },
  {
   "cell_type": "markdown",
   "metadata": {},
   "source": [
    "## Confidence Interval Analytical Tasks"
   ]
  },
  {
   "cell_type": "markdown",
   "metadata": {},
   "source": [
    "Focus on the proportion of action games that are Block0.5 compared to population proportion"
   ]
  },
  {
   "cell_type": "markdown",
   "metadata": {},
   "source": [
    "## Research Question\n",
    "Is the proportion of successful games (Block0.5 == True) significantly less than 20%?\n",
    "\n",
    "## Dataset cleaning \n",
    "I used the function from our last project to convert all of the columns that only record a 0 or a 1 to be Boolean. We don't need to remove any missing or null values, as there are none present in the dataset. I also categorized our sample to only look for action games with Block0.5 (success) status."
   ]
  },
  {
   "cell_type": "code",
   "execution_count": 3,
   "metadata": {},
   "outputs": [
    {
     "name": "stdout",
     "output_type": "stream",
     "text": [
      "0 missing values\n"
     ]
    }
   ],
   "source": [
    "def make_boolean(var, true_condition):\n",
    "    return (var == true_condition)\n",
    "\n",
    "boolean_columns = ['Block0.5', 'Block1', 'Block2', 'Block4']\n",
    "\n",
    "for col in df.columns:\n",
    "    if set(df[col].unique()) == {0, 1}:\n",
    "        df[col] = make_boolean(df[col], 1)\n",
    "\n",
    "print(f\"{df.isnull().sum().sum()} missing values\")"
   ]
  },
  {
   "cell_type": "code",
   "execution_count": 4,
   "metadata": {},
   "outputs": [],
   "source": [
    "action_games = df[df[\"Action\"] == True]\n",
    "successes = df[df[\"Block0.5\"] == True]\n",
    "success_block = action_games['Block0.5']\n",
    "blockbuster = action_games[action_games['Block0.5'] == True]['US Sales (millions)']\n",
    "non_blockbuster = action_games[action_games['Block0.5'] == False]['US Sales (millions)']"
   ]
  },
  {
   "cell_type": "markdown",
   "metadata": {},
   "source": [
    "## Descriptive Analytics"
   ]
  },
  {
   "cell_type": "markdown",
   "metadata": {},
   "source": [
    "The dataset contains 1,076 action games (our sample size), and the proportion of Block0.5 action games is 0.2388. In other words, around 23.88% of the action games were considered at least mildly successful."
   ]
  },
  {
   "cell_type": "code",
   "execution_count": 5,
   "metadata": {},
   "outputs": [
    {
     "data": {
      "text/plain": [
       "382"
      ]
     },
     "execution_count": 5,
     "metadata": {},
     "output_type": "execute_result"
    }
   ],
   "source": [
    "int((df['Block0.5'] == 1).sum())"
   ]
  },
  {
   "cell_type": "code",
   "execution_count": 6,
   "metadata": {},
   "outputs": [
    {
     "data": {
      "text/plain": [
       "0.21581920903954802"
      ]
     },
     "execution_count": 6,
     "metadata": {},
     "output_type": "execute_result"
    }
   ],
   "source": [
    "float((df['Block0.5'] == 1).sum() / 1770)"
   ]
  },
  {
   "cell_type": "code",
   "execution_count": 7,
   "metadata": {},
   "outputs": [
    {
     "name": "stdout",
     "output_type": "stream",
     "text": [
      "Sample Size: 1076\n",
      "Proportion of successful action games: 0.2388\n"
     ]
    }
   ],
   "source": [
    "sample_size = len(success_block)\n",
    "sample_proportion = success_block.mean()\n",
    "print(f\"Sample Size: {sample_size}\")\n",
    "print(f\"Proportion of successful action games: {sample_proportion:.4f}\")"
   ]
  },
  {
   "cell_type": "code",
   "execution_count": 8,
   "metadata": {},
   "outputs": [
    {
     "name": "stdout",
     "output_type": "stream",
     "text": [
      "Sample Size for Blockbuster Games: 257\n",
      "Mean Sale Amount for Blockbuster Games: 1.63\n",
      "Sample Size for Non-Blockbuster Games: 819\n",
      "Mean Sale Amount for Non-Blockbuster Games: 0.17\n"
     ]
    }
   ],
   "source": [
    "sample_size_blockbuster = len(blockbuster)\n",
    "sample_mean_blockbuster = np.mean(blockbuster)\n",
    "print(f\"Sample Size for Blockbuster Games: {sample_size_blockbuster}\")\n",
    "print(f\"Mean Sale Amount for Blockbuster Games: {sample_mean_blockbuster:.2f}\")\n",
    "sample_size_non_blockbuster = len(non_blockbuster)\n",
    "sample_mean_non_blockbuster = np.mean(non_blockbuster)\n",
    "print(f\"Sample Size for Non-Blockbuster Games: {sample_size_non_blockbuster}\")\n",
    "print(f\"Mean Sale Amount for Non-Blockbuster Games: {sample_mean_non_blockbuster:.2f}\")"
   ]
  },
  {
   "cell_type": "code",
   "execution_count": 9,
   "metadata": {},
   "outputs": [
    {
     "data": {
      "text/html": [
       "<div>\n",
       "<style scoped>\n",
       "    .dataframe tbody tr th:only-of-type {\n",
       "        vertical-align: middle;\n",
       "    }\n",
       "\n",
       "    .dataframe tbody tr th {\n",
       "        vertical-align: top;\n",
       "    }\n",
       "\n",
       "    .dataframe thead th {\n",
       "        text-align: right;\n",
       "    }\n",
       "</style>\n",
       "<table border=\"1\" class=\"dataframe\">\n",
       "  <thead>\n",
       "    <tr style=\"text-align: right;\">\n",
       "      <th></th>\n",
       "      <th>x</th>\n",
       "    </tr>\n",
       "  </thead>\n",
       "  <tbody>\n",
       "    <tr>\n",
       "      <th>0</th>\n",
       "      <td>0.243494</td>\n",
       "    </tr>\n",
       "    <tr>\n",
       "      <th>1</th>\n",
       "      <td>0.226766</td>\n",
       "    </tr>\n",
       "    <tr>\n",
       "      <th>2</th>\n",
       "      <td>0.242565</td>\n",
       "    </tr>\n",
       "    <tr>\n",
       "      <th>3</th>\n",
       "      <td>0.233271</td>\n",
       "    </tr>\n",
       "    <tr>\n",
       "      <th>4</th>\n",
       "      <td>0.276022</td>\n",
       "    </tr>\n",
       "    <tr>\n",
       "      <th>...</th>\n",
       "      <td>...</td>\n",
       "    </tr>\n",
       "    <tr>\n",
       "      <th>4995</th>\n",
       "      <td>0.250000</td>\n",
       "    </tr>\n",
       "    <tr>\n",
       "      <th>4996</th>\n",
       "      <td>0.233271</td>\n",
       "    </tr>\n",
       "    <tr>\n",
       "      <th>4997</th>\n",
       "      <td>0.235130</td>\n",
       "    </tr>\n",
       "    <tr>\n",
       "      <th>4998</th>\n",
       "      <td>0.229554</td>\n",
       "    </tr>\n",
       "    <tr>\n",
       "      <th>4999</th>\n",
       "      <td>0.263011</td>\n",
       "    </tr>\n",
       "  </tbody>\n",
       "</table>\n",
       "<p>5000 rows × 1 columns</p>\n",
       "</div>"
      ],
      "text/plain": [
       "             x\n",
       "0     0.243494\n",
       "1     0.226766\n",
       "2     0.242565\n",
       "3     0.233271\n",
       "4     0.276022\n",
       "...        ...\n",
       "4995  0.250000\n",
       "4996  0.233271\n",
       "4997  0.235130\n",
       "4998  0.229554\n",
       "4999  0.263011\n",
       "\n",
       "[5000 rows x 1 columns]"
      ]
     },
     "execution_count": 9,
     "metadata": {},
     "output_type": "execute_result"
    }
   ],
   "source": [
    "simulated_means = []\n",
    "for i in range(5000):\n",
    "    sample = success_block.sample(sample_size, replace = True)\n",
    "    simulated_means.append(sample.mean())\n",
    "simulated_means = pd.DataFrame({\"x\": simulated_means})\n",
    "simulated_means"
   ]
  },
  {
   "cell_type": "code",
   "execution_count": 10,
   "metadata": {},
   "outputs": [],
   "source": [
    "simulated_means_blockbuster = []\n",
    "for i in range(5000):\n",
    "    sample = blockbuster.sample(sample_size_blockbuster, replace=True)\n",
    "    simulated_means_blockbuster.append(sample.mean())\n",
    "simulated_means_blockbuster = pd.DataFrame({\"mean_sale_amount\": simulated_means_blockbuster})\n",
    "simulated_means_non_blockbuster = []\n",
    "for i in range(5000):\n",
    "    sample = non_blockbuster.sample(sample_size_non_blockbuster, replace=True)\n",
    "    simulated_means_non_blockbuster.append(sample.mean())\n",
    "simulated_means_non_blockbuster = pd.DataFrame({\"mean_sale_amount\": simulated_means_non_blockbuster})"
   ]
  },
  {
   "cell_type": "code",
   "execution_count": 11,
   "metadata": {},
   "outputs": [],
   "source": [
    "simulated_medians_blockbuster = []\n",
    "for i in range(5000):\n",
    "    sample = blockbuster.sample(sample_size_blockbuster, replace=True)\n",
    "    simulated_medians_blockbuster.append(sample.median())\n",
    "simulated_medians_blockbuster = pd.DataFrame({\"median_sale_amount\": simulated_medians_blockbuster})\n",
    "simulated_medians_non_blockbuster = []\n",
    "for i in range(5000):\n",
    "    sample = non_blockbuster.sample(sample_size_non_blockbuster, replace=True)\n",
    "    simulated_medians_non_blockbuster.append(sample.median())\n",
    "simulated_medians_non_blockbuster = pd.DataFrame({\"median_sale_amount\": simulated_medians_non_blockbuster})"
   ]
  },
  {
   "cell_type": "code",
   "execution_count": 12,
   "metadata": {},
   "outputs": [
    {
     "name": "stdout",
     "output_type": "stream",
     "text": [
      "90% Confidence Interval for Means: [0.2175, 0.2593]\n"
     ]
    }
   ],
   "source": [
    "lower_bound = np.quantile(simulated_means, 0.05)\n",
    "upper_bound = np.quantile(simulated_means, 0.95)\n",
    "print(f\"90% Confidence Interval for Means: [{lower_bound:.4f}, {upper_bound:.4f}]\")"
   ]
  },
  {
   "cell_type": "code",
   "execution_count": 13,
   "metadata": {},
   "outputs": [
    {
     "name": "stdout",
     "output_type": "stream",
     "text": [
      "90% Confidence Interval for Blockbuster Mean Sale Amount: [1.44, 1.83]\n",
      "90% Confidence Interval for Non-Blockbuster Mean Sale Amount: [0.17, 0.18]\n"
     ]
    }
   ],
   "source": [
    "lower_bound_blockbuster = np.quantile(simulated_means_blockbuster, 0.05)\n",
    "upper_bound_blockbuster = np.quantile(simulated_means_blockbuster, 0.95)\n",
    "print(f\"90% Confidence Interval for Blockbuster Mean Sale Amount: [{lower_bound_blockbuster:.2f}, {upper_bound_blockbuster:.2f}]\")\n",
    "lower_bound_non_blockbuster = np.quantile(simulated_means_non_blockbuster, 0.05)\n",
    "upper_bound_non_blockbuster = np.quantile(simulated_means_non_blockbuster, 0.95)\n",
    "print(f\"90% Confidence Interval for Non-Blockbuster Mean Sale Amount: [{lower_bound_non_blockbuster:.2f}, {upper_bound_non_blockbuster:.2f}]\")"
   ]
  },
  {
   "cell_type": "code",
   "execution_count": 14,
   "metadata": {},
   "outputs": [
    {
     "name": "stdout",
     "output_type": "stream",
     "text": [
      "The proportion of successful action games is NOT significantly less than 20%.\n"
     ]
    }
   ],
   "source": [
    "if upper_bound < 0.2:\n",
    "    print(\"The proportion of successful action games is significantly less than 20%.\")\n",
    "else:\n",
    "    print(\"The proportion of successful action games is NOT significantly less than 20%.\")"
   ]
  },
  {
   "cell_type": "markdown",
   "metadata": {},
   "source": [
    "# Hypothesis Testing Analytical Tasks"
   ]
  },
  {
   "cell_type": "markdown",
   "metadata": {},
   "source": [
    "Null Hypothesis (Ho): The proportion of games in the 'Action' genre that achieve \"Block0.5\" status is equal to 20% (p = 0.2). \n",
    "\n",
    "Alternative Hypothesis (Ha): The proportion of games in the 'Action' genre that achieve \"Block0.5\" status is less than 20% (p < 0.2)."
   ]
  },
  {
   "cell_type": "markdown",
   "metadata": {},
   "source": []
  },
  {
   "cell_type": "markdown",
   "metadata": {},
   "source": [
    "For our hypothesis test, we would like to know: Is it true that the proportion of action games that achieve Block0.5 status is less than 20%? and what are the mean & median sales numbers of action games that achieve Block0.5 compared to action games that do not acheive Blockbuster status?\n",
    "To begin our hypothesis test we performed some data cleaning. Due to the dataset containing a large number of boolean (0, 1) values we created a function that would convert the values to True/False values. After converting the boolean values we performed data cleaning for our variables of interest, checking for null and missing values (.isna().sum()) and unique values (.unique()) within the \"Action\", \"Block0.5\", & \"US Sales (millions)\" columns ensuring no null or missing values. We also checked the sales column for 0 & negative values for further data cleaning. However, there were no unusual, missing, or null values found within the columns (no limitations)."
   ]
  },
  {
   "cell_type": "code",
   "execution_count": 15,
   "metadata": {},
   "outputs": [
    {
     "data": {
      "text/plain": [
       "0"
      ]
     },
     "execution_count": 15,
     "metadata": {},
     "output_type": "execute_result"
    }
   ],
   "source": [
    "int(df['US Sales (millions)'].isna().sum())"
   ]
  },
  {
   "cell_type": "code",
   "execution_count": 16,
   "metadata": {},
   "outputs": [
    {
     "data": {
      "text/plain": [
       "0"
      ]
     },
     "execution_count": 16,
     "metadata": {},
     "output_type": "execute_result"
    }
   ],
   "source": [
    "int((df['US Sales (millions)'] <= 0).sum())"
   ]
  },
  {
   "cell_type": "code",
   "execution_count": 17,
   "metadata": {},
   "outputs": [
    {
     "data": {
      "text/plain": [
       "0"
      ]
     },
     "execution_count": 17,
     "metadata": {},
     "output_type": "execute_result"
    }
   ],
   "source": [
    "int(df['Action'].isna().sum())"
   ]
  },
  {
   "cell_type": "code",
   "execution_count": 18,
   "metadata": {},
   "outputs": [
    {
     "data": {
      "text/plain": [
       "array([ True, False])"
      ]
     },
     "execution_count": 18,
     "metadata": {},
     "output_type": "execute_result"
    }
   ],
   "source": [
    "df['Action'].unique()"
   ]
  },
  {
   "cell_type": "code",
   "execution_count": 19,
   "metadata": {},
   "outputs": [
    {
     "data": {
      "text/plain": [
       "0"
      ]
     },
     "execution_count": 19,
     "metadata": {},
     "output_type": "execute_result"
    }
   ],
   "source": [
    "int(df['Block0.5'].isna().sum())"
   ]
  },
  {
   "cell_type": "code",
   "execution_count": 20,
   "metadata": {},
   "outputs": [
    {
     "data": {
      "text/plain": [
       "array([ True, False])"
      ]
     },
     "execution_count": 20,
     "metadata": {},
     "output_type": "execute_result"
    }
   ],
   "source": [
    "df['Block0.5'].unique()"
   ]
  },
  {
   "cell_type": "markdown",
   "metadata": {},
   "source": [
    "## Descriptive Analytics"
   ]
  },
  {
   "cell_type": "markdown",
   "metadata": {},
   "source": [
    "To observe the features of our variable of interest we used .describe() for the 'Action' & 'Block0.5' column. These summaries describe the count of instances for each, how many unique values the column contains, the top unique value, and the frequency at which the top unique value occurs.\n",
    "We subset our data to only include 'Action' games. From our data subset we used mean() and median() to get summary measures for the sales variable. The average sales (millions) for all Action games = 0.52 the median sales for all Action games = 0.2. The average sales for Action games that achieved Block0.5 = 1.62 the median sales for Action games that achieved Block0.5= 1.06. "
   ]
  },
  {
   "cell_type": "code",
   "execution_count": 21,
   "metadata": {},
   "outputs": [
    {
     "data": {
      "text/plain": [
       "count      1770\n",
       "unique        2\n",
       "top       False\n",
       "freq       1388\n",
       "Name: Block0.5, dtype: object"
      ]
     },
     "execution_count": 21,
     "metadata": {},
     "output_type": "execute_result"
    }
   ],
   "source": [
    "df['Block0.5'].describe()"
   ]
  },
  {
   "cell_type": "code",
   "execution_count": 22,
   "metadata": {},
   "outputs": [
    {
     "data": {
      "text/plain": [
       "count     1770\n",
       "unique       2\n",
       "top       True\n",
       "freq      1076\n",
       "Name: Action, dtype: object"
      ]
     },
     "execution_count": 22,
     "metadata": {},
     "output_type": "execute_result"
    }
   ],
   "source": [
    "df['Action'].describe()"
   ]
  },
  {
   "cell_type": "code",
   "execution_count": 23,
   "metadata": {},
   "outputs": [
    {
     "data": {
      "text/plain": [
       "(1076, 166)"
      ]
     },
     "execution_count": 23,
     "metadata": {},
     "output_type": "execute_result"
    }
   ],
   "source": [
    "action_games = df[df['Action']== True] #Filtering data for Action games\n",
    "action_games.shape"
   ]
  },
  {
   "cell_type": "code",
   "execution_count": 24,
   "metadata": {},
   "outputs": [
    {
     "name": "stdout",
     "output_type": "stream",
     "text": [
      "0.5197026022304834\n",
      "0.2\n"
     ]
    }
   ],
   "source": [
    "print(action_games['US Sales (millions)'].mean())           #Average sales for all Action games\n",
    "print(action_games['US Sales (millions)'].median())         #Median sales for all Action games"
   ]
  },
  {
   "cell_type": "code",
   "execution_count": 25,
   "metadata": {},
   "outputs": [],
   "source": [
    "block_interest = action_games[action_games['Block0.5'] == True]    #Filtering data for Action games that achieved block0.5 status   "
   ]
  },
  {
   "cell_type": "code",
   "execution_count": 26,
   "metadata": {},
   "outputs": [
    {
     "name": "stdout",
     "output_type": "stream",
     "text": [
      "1.6250194552529182\n",
      "1.06\n"
     ]
    }
   ],
   "source": [
    "print(block_interest['US Sales (millions)'].mean())           #Average sales of Action block0.5 games \n",
    "print(block_interest['US Sales (millions)'].median())"
   ]
  },
  {
   "cell_type": "code",
   "execution_count": 27,
   "metadata": {},
   "outputs": [
    {
     "data": {
      "text/plain": [
       "0.23884758364312267"
      ]
     },
     "execution_count": 27,
     "metadata": {},
     "output_type": "execute_result"
    }
   ],
   "source": [
    "obs_proportion = float(action_games['Block0.5'].mean() )   #Average amount of Action games with Block0.5 status. \n",
    "obs_proportion"
   ]
  },
  {
   "cell_type": "markdown",
   "metadata": {},
   "source": [
    "## Hypothesis Test"
   ]
  },
  {
   "cell_type": "markdown",
   "metadata": {},
   "source": [
    "Our parameter of interest is the proportion of 'Action' games with block0.5 status.\n",
    "\n",
    "Null Hypothesis (Ho): The proportion of games in the 'Action' genre that achieve \"Block0.5\" status is equal to 20% (p = 0.2). \n",
    "\n",
    "Alternative Hypothesis (Ha): The proportion of games in the 'Action' genre that achieve \"Block0.5\" status is less than 20% (p < 0.2).\n",
    "\n",
    "Significance level: 0.10\n",
    "\n",
    "Checking conditions: n * p = 1076*0.20 = 215.2, np >= 10, n*(1-p) = 1076*.80 = 860.8 >=10\n",
    "\n",
    "Based on our performed hypothesis test, we are 90 percent confident that the true population mean for the proportion of action games in block0.5 status is within the range 0.22 and 0.26. From the visualization, we can understand the shape of the distribution and how it centers around our observed proportion of 0.24. The most appropriate measure of center is the mean because we are using a proportion, and it directly represents the expected value of action games in block0.5 status. Our distribution also appears to be normal, which reaffirms the appropriate measure of center to be the mean.\n",
    "Based off of our calculated p-value of 0.0022, we would reject the null hypothesis and accept our alternative hypothesis. There is significant statistical evidence that tell us that more than 20 percent of action games receive block0.5 status.\n",
    "The p-value of 0.0022 indicates a low probability of observing a sample where the proportion of action games achieving Block0.5 status is as high or higher, assuming that the true proportion is only 20%. This small p-value suggests that it is very unlikely that our sample result occurred due to chance. The significance level, set at 0.10, represents the threshold against which we compare the p-value to determine whether the observed result is statistically significant. Since the p-value is less than the significance level, we reject the null hypothesis, concluding that there is strong evidence to support the alternative hypothesis that the proportion of action games achieving Block0.5 status is greater than 20%."
   ]
  },
  {
   "cell_type": "code",
   "execution_count": null,
   "metadata": {},
   "outputs": [],
   "source": [
    "sampling_dist = []\n",
    "for i in range(5000):\n",
    "    sample = action_games.sample(1076, replace = True)\n",
    "    sampling_dist.append(sample['Block0.5'].mean())\n",
    "sampling_dist = pd.DataFrame({'xbar':sampling_dist})\n",
    "sampling_dist"
   ]
  },
  {
   "cell_type": "code",
   "execution_count": null,
   "metadata": {},
   "outputs": [],
   "source": [
    "print(sampling_dist['xbar'].quantile(0.05))\n",
    "print(sampling_dist['xbar'].quantile(0.95))"
   ]
  },
  {
   "cell_type": "code",
   "execution_count": null,
   "metadata": {},
   "outputs": [],
   "source": [
    "sampling_dist.plot.hist() #Distribution of the proportion of Action games with block0.5 status.\n",
    "plt.title(\"Proportion of Action games with block0.5 status\")\n",
    "plt.xlabel(\"Block0.5\")\n",
    "plt.ylabel(\"Blockbuster0.5 Achieved Frequency\")"
   ]
  },
  {
   "cell_type": "code",
   "execution_count": null,
   "metadata": {},
   "outputs": [],
   "source": [
    "mod_data = action_games['Block0.5'] - action_games['Block0.5'].mean() + 0.20 #modifying data to assume the null hypothesis is true.\n",
    "float(mod_data.mean())"
   ]
  },
  {
   "cell_type": "code",
   "execution_count": null,
   "metadata": {},
   "outputs": [],
   "source": [
    "sampling_dist2 = []\n",
    "for i in range(5000):\n",
    "    sample = mod_data.sample(1076, replace = True)\n",
    "    sampling_dist2.append(sample.mean())\n",
    "sampling_dist2 = pd.DataFrame({'xbar':sampling_dist2})\n",
    "sampling_dist2"
   ]
  },
  {
   "cell_type": "code",
   "execution_count": null,
   "metadata": {},
   "outputs": [],
   "source": [
    "float((sampling_dist2['xbar'] >= obs_proportion).mean()) #Probability of observing a sample statistic greater than the observed proportion."
   ]
  },
  {
   "cell_type": "markdown",
   "metadata": {},
   "source": [
    "# Conclusion"
   ]
  },
  {
   "cell_type": "markdown",
   "metadata": {},
   "source": [
    "Our results indicate that the proportion of successful action games (Block0.5 == True) is not significantly less than 20%, and the true proportion lies within the confidence interval [0.2193, 0.2602]. Additionally, we investigated the mean and median sale amounts of action games based on their blockbuster status. Action games that achieved Block0.5 status had a mean sale amount of 1.625 million and a median sale amount of  1.060 million, both of which were significantly higher than those that did not achieve Blockbuster status. This highlights the association between financial success and achieving blockbuster status in the gaming industry. For our hypothesis test, we aimed to determine whether the proportion of action games achieving Block0.5 status was less than 20%. We conducted a data cleaning process to ensure the dataset was clean, we converted boolean values and checked for missing and unusual values. Using a sample of 1076 action games, we calculated an observed proportion of 0.24 and performed a hypothesis test with a significance level of 0.10. The resulting p-value of 0.0022 led us to reject the null hypothesis, indicating strong evidence that the proportion of action games achieving Block0.5 status is greater than 20%. Additionally, we found that action games with Block0.5 status had significantly higher average and median sales compared to all action games, highlighting the association between success and achieving blockbuster status.\n",
    "\n",
    "We encountered some limitations during our analysis. While our dataset was comprehensive, it is possible that it does not capture all factors influencing blockbuster status, such like marketing or player demographics. The reliance on sales as a measure of success might overlook other factors of game performance, like acclaim or player engagement. Furthermore, the dataset only included specific consoles which does not fully represent the entire market of gaming. These limitations are important to keep in mind when generalizing results.\n",
    "\n",
    "Future research could be done to explore more questions and conduct further analyses to build on our findings. One idea is examining the impact of specific game features or genres on achieving blockbuster status to closer identify predictors of success. As well, expanding the dataset to include more diverse consoles and international games could enhance the generalizability of results and offer a more precise understanding of what determines blockbuster success in the gaming industry.."
   ]
  }
 ],
 "metadata": {
  "kernelspec": {
   "display_name": "Python 3 (ipykernel)",
   "language": "python",
   "name": "python3"
  },
  "language_info": {
   "codemirror_mode": {
    "name": "ipython",
    "version": 3
   },
   "file_extension": ".py",
   "mimetype": "text/x-python",
   "name": "python",
   "nbconvert_exporter": "python",
   "pygments_lexer": "ipython3",
   "version": "3.12.3"
  }
 },
 "nbformat": 4,
 "nbformat_minor": 4
}
