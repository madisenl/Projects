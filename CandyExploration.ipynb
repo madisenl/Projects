{
 "cells": [
  {
   "cell_type": "markdown",
   "metadata": {},
   "source": [
    "# Candy Exploration"
   ]
  },
  {
   "cell_type": "markdown",
   "metadata": {},
   "source": [
    "### Contribution Report\n",
    "\n",
    "\n",
    "<i>1. Johnny Powell completed parts 4 and 5</i>\n",
    "\n",
    "<i>2. Madisen LeShoure completed parts 1 and 2</i>\n",
    "\n",
    "<i>3. Jeevan Rathakrishnan completed part 3</i>"
   ]
  },
  {
   "cell_type": "markdown",
   "metadata": {},
   "source": [
    "## Introduction"
   ]
  },
  {
   "cell_type": "markdown",
   "metadata": {},
   "source": [
    "Motivation: We were curious about what candy is the best.\n",
    "Research Question: to determine the best candy, what variable influences the win percent the most?"
   ]
  },
  {
   "cell_type": "code",
   "execution_count": 24,
   "metadata": {},
   "outputs": [
    {
     "data": {
      "text/html": [
       "<div>\n",
       "<style scoped>\n",
       "    .dataframe tbody tr th:only-of-type {\n",
       "        vertical-align: middle;\n",
       "    }\n",
       "\n",
       "    .dataframe tbody tr th {\n",
       "        vertical-align: top;\n",
       "    }\n",
       "\n",
       "    .dataframe thead th {\n",
       "        text-align: right;\n",
       "    }\n",
       "</style>\n",
       "<table border=\"1\" class=\"dataframe\">\n",
       "  <thead>\n",
       "    <tr style=\"text-align: right;\">\n",
       "      <th></th>\n",
       "      <th>competitorname</th>\n",
       "      <th>chocolate</th>\n",
       "      <th>fruity</th>\n",
       "      <th>caramel</th>\n",
       "      <th>peanutyalmondy</th>\n",
       "      <th>nougat</th>\n",
       "      <th>crispedricewafer</th>\n",
       "      <th>hard</th>\n",
       "      <th>bar</th>\n",
       "      <th>pluribus</th>\n",
       "      <th>sugarpercent</th>\n",
       "      <th>pricepercent</th>\n",
       "      <th>winpercent</th>\n",
       "    </tr>\n",
       "  </thead>\n",
       "  <tbody>\n",
       "    <tr>\n",
       "      <th>0</th>\n",
       "      <td>100 Grand</td>\n",
       "      <td>True</td>\n",
       "      <td>False</td>\n",
       "      <td>True</td>\n",
       "      <td>False</td>\n",
       "      <td>False</td>\n",
       "      <td>True</td>\n",
       "      <td>False</td>\n",
       "      <td>True</td>\n",
       "      <td>False</td>\n",
       "      <td>0.732</td>\n",
       "      <td>0.860</td>\n",
       "      <td>66.971725</td>\n",
       "    </tr>\n",
       "    <tr>\n",
       "      <th>1</th>\n",
       "      <td>3 Musketeers</td>\n",
       "      <td>True</td>\n",
       "      <td>False</td>\n",
       "      <td>False</td>\n",
       "      <td>False</td>\n",
       "      <td>True</td>\n",
       "      <td>False</td>\n",
       "      <td>False</td>\n",
       "      <td>True</td>\n",
       "      <td>False</td>\n",
       "      <td>0.604</td>\n",
       "      <td>0.511</td>\n",
       "      <td>67.602936</td>\n",
       "    </tr>\n",
       "    <tr>\n",
       "      <th>2</th>\n",
       "      <td>One dime</td>\n",
       "      <td>False</td>\n",
       "      <td>False</td>\n",
       "      <td>False</td>\n",
       "      <td>False</td>\n",
       "      <td>False</td>\n",
       "      <td>False</td>\n",
       "      <td>False</td>\n",
       "      <td>False</td>\n",
       "      <td>False</td>\n",
       "      <td>0.011</td>\n",
       "      <td>0.116</td>\n",
       "      <td>32.261086</td>\n",
       "    </tr>\n",
       "    <tr>\n",
       "      <th>3</th>\n",
       "      <td>One quarter</td>\n",
       "      <td>False</td>\n",
       "      <td>False</td>\n",
       "      <td>False</td>\n",
       "      <td>False</td>\n",
       "      <td>False</td>\n",
       "      <td>False</td>\n",
       "      <td>False</td>\n",
       "      <td>False</td>\n",
       "      <td>False</td>\n",
       "      <td>0.011</td>\n",
       "      <td>0.511</td>\n",
       "      <td>46.116505</td>\n",
       "    </tr>\n",
       "    <tr>\n",
       "      <th>4</th>\n",
       "      <td>Air Heads</td>\n",
       "      <td>False</td>\n",
       "      <td>True</td>\n",
       "      <td>False</td>\n",
       "      <td>False</td>\n",
       "      <td>False</td>\n",
       "      <td>False</td>\n",
       "      <td>False</td>\n",
       "      <td>False</td>\n",
       "      <td>False</td>\n",
       "      <td>0.906</td>\n",
       "      <td>0.511</td>\n",
       "      <td>52.341465</td>\n",
       "    </tr>\n",
       "    <tr>\n",
       "      <th>...</th>\n",
       "      <td>...</td>\n",
       "      <td>...</td>\n",
       "      <td>...</td>\n",
       "      <td>...</td>\n",
       "      <td>...</td>\n",
       "      <td>...</td>\n",
       "      <td>...</td>\n",
       "      <td>...</td>\n",
       "      <td>...</td>\n",
       "      <td>...</td>\n",
       "      <td>...</td>\n",
       "      <td>...</td>\n",
       "      <td>...</td>\n",
       "    </tr>\n",
       "    <tr>\n",
       "      <th>80</th>\n",
       "      <td>Twizzlers</td>\n",
       "      <td>False</td>\n",
       "      <td>True</td>\n",
       "      <td>False</td>\n",
       "      <td>False</td>\n",
       "      <td>False</td>\n",
       "      <td>False</td>\n",
       "      <td>False</td>\n",
       "      <td>False</td>\n",
       "      <td>False</td>\n",
       "      <td>0.220</td>\n",
       "      <td>0.116</td>\n",
       "      <td>45.466282</td>\n",
       "    </tr>\n",
       "    <tr>\n",
       "      <th>81</th>\n",
       "      <td>Warheads</td>\n",
       "      <td>False</td>\n",
       "      <td>True</td>\n",
       "      <td>False</td>\n",
       "      <td>False</td>\n",
       "      <td>False</td>\n",
       "      <td>False</td>\n",
       "      <td>True</td>\n",
       "      <td>False</td>\n",
       "      <td>False</td>\n",
       "      <td>0.093</td>\n",
       "      <td>0.116</td>\n",
       "      <td>39.011898</td>\n",
       "    </tr>\n",
       "    <tr>\n",
       "      <th>82</th>\n",
       "      <td>Welch's Fruit Snacks</td>\n",
       "      <td>False</td>\n",
       "      <td>True</td>\n",
       "      <td>False</td>\n",
       "      <td>False</td>\n",
       "      <td>False</td>\n",
       "      <td>False</td>\n",
       "      <td>False</td>\n",
       "      <td>False</td>\n",
       "      <td>True</td>\n",
       "      <td>0.313</td>\n",
       "      <td>0.313</td>\n",
       "      <td>44.375519</td>\n",
       "    </tr>\n",
       "    <tr>\n",
       "      <th>83</th>\n",
       "      <td>Werther's Original Caramel</td>\n",
       "      <td>False</td>\n",
       "      <td>False</td>\n",
       "      <td>True</td>\n",
       "      <td>False</td>\n",
       "      <td>False</td>\n",
       "      <td>False</td>\n",
       "      <td>True</td>\n",
       "      <td>False</td>\n",
       "      <td>False</td>\n",
       "      <td>0.186</td>\n",
       "      <td>0.267</td>\n",
       "      <td>41.904308</td>\n",
       "    </tr>\n",
       "    <tr>\n",
       "      <th>84</th>\n",
       "      <td>Whoppers</td>\n",
       "      <td>True</td>\n",
       "      <td>False</td>\n",
       "      <td>False</td>\n",
       "      <td>False</td>\n",
       "      <td>False</td>\n",
       "      <td>True</td>\n",
       "      <td>False</td>\n",
       "      <td>False</td>\n",
       "      <td>True</td>\n",
       "      <td>0.872</td>\n",
       "      <td>0.848</td>\n",
       "      <td>49.524113</td>\n",
       "    </tr>\n",
       "  </tbody>\n",
       "</table>\n",
       "<p>85 rows × 13 columns</p>\n",
       "</div>"
      ],
      "text/plain": [
       "                competitorname  chocolate  fruity  caramel  peanutyalmondy  \\\n",
       "0                    100 Grand       True   False     True           False   \n",
       "1                 3 Musketeers       True   False    False           False   \n",
       "2                     One dime      False   False    False           False   \n",
       "3                  One quarter      False   False    False           False   \n",
       "4                    Air Heads      False    True    False           False   \n",
       "..                         ...        ...     ...      ...             ...   \n",
       "80                   Twizzlers      False    True    False           False   \n",
       "81                    Warheads      False    True    False           False   \n",
       "82        Welch's Fruit Snacks      False    True    False           False   \n",
       "83  Werther's Original Caramel      False   False     True           False   \n",
       "84                    Whoppers       True   False    False           False   \n",
       "\n",
       "    nougat  crispedricewafer   hard    bar  pluribus  sugarpercent  \\\n",
       "0    False              True  False   True     False         0.732   \n",
       "1     True             False  False   True     False         0.604   \n",
       "2    False             False  False  False     False         0.011   \n",
       "3    False             False  False  False     False         0.011   \n",
       "4    False             False  False  False     False         0.906   \n",
       "..     ...               ...    ...    ...       ...           ...   \n",
       "80   False             False  False  False     False         0.220   \n",
       "81   False             False   True  False     False         0.093   \n",
       "82   False             False  False  False      True         0.313   \n",
       "83   False             False   True  False     False         0.186   \n",
       "84   False              True  False  False      True         0.872   \n",
       "\n",
       "    pricepercent  winpercent  \n",
       "0          0.860   66.971725  \n",
       "1          0.511   67.602936  \n",
       "2          0.116   32.261086  \n",
       "3          0.511   46.116505  \n",
       "4          0.511   52.341465  \n",
       "..           ...         ...  \n",
       "80         0.116   45.466282  \n",
       "81         0.116   39.011898  \n",
       "82         0.313   44.375519  \n",
       "83         0.267   41.904308  \n",
       "84         0.848   49.524113  \n",
       "\n",
       "[85 rows x 13 columns]"
      ]
     },
     "execution_count": 24,
     "metadata": {},
     "output_type": "execute_result"
    }
   ],
   "source": [
    "import pandas as pd\n",
    "import matplotlib.pyplot as plt\n",
    "import seaborn as sns; sns.set()\n",
    "import math\n",
    "df = pd.read_csv(\"candy-data.csv\")\n",
    "def make_boolean(var, true_condition):\n",
    "    # Creates a boolean variable\n",
    "    # True is recorded when the true_condition holds\n",
    "    return (var == true_condition)\n",
    "df['chocolate'] = make_boolean(df['chocolate'], 1)\n",
    "df['fruity'] = make_boolean(df['fruity'], 1)\n",
    "df['caramel'] = make_boolean(df['caramel'], 1)\n",
    "df['peanutyalmondy'] = make_boolean(df['peanutyalmondy'], 1)\n",
    "df['nougat'] = make_boolean(df['nougat'], 1)\n",
    "df['crispedricewafer'] = make_boolean(df['crispedricewafer'], 1)\n",
    "df['hard'] = make_boolean(df['hard'], 1)\n",
    "df['bar'] = make_boolean(df['bar'], 1)\n",
    "df['pluribus'] = make_boolean(df['pluribus'], 1)\n",
    "df"
   ]
  },
  {
   "cell_type": "markdown",
   "metadata": {},
   "source": [
    "## Dataset Discussion"
   ]
  },
  {
   "cell_type": "markdown",
   "metadata": {},
   "source": [
    "We found The Ultimate Halloween Candy Power Ranking dataset from the provided dataset options in the project description document. We discovered our dataset on the fivethirtyeight github. Link = (https://github.com/fivethirtyeight/data/tree/master/candy-power-ranking). We accessed the dataset on September 22, 2024. The codebook for the dataset is available, it provides descriptions for each attribute included in the dataset, what the binary variables are and how they are defined, and a video detailing how and why the dataset was created."
   ]
  },
  {
   "cell_type": "markdown",
   "metadata": {},
   "source": [
    "For Halloween Fivethirtyeight wanted to find out what the best candy was to give out for the holiday. To do this they placed 86 different candies into a online matchup game where 250,000 participants responded which candy was their favorite or preferred candy out of the matchups. For each participant there was a total of 43 total matchups. Our dataset reflects how each candy performed in the matchups of all 250,000 responses."
   ]
  },
  {
   "cell_type": "code",
   "execution_count": 2,
   "metadata": {},
   "outputs": [
    {
     "data": {
      "text/html": [
       "<div>\n",
       "<style scoped>\n",
       "    .dataframe tbody tr th:only-of-type {\n",
       "        vertical-align: middle;\n",
       "    }\n",
       "\n",
       "    .dataframe tbody tr th {\n",
       "        vertical-align: top;\n",
       "    }\n",
       "\n",
       "    .dataframe thead th {\n",
       "        text-align: right;\n",
       "    }\n",
       "</style>\n",
       "<table border=\"1\" class=\"dataframe\">\n",
       "  <thead>\n",
       "    <tr style=\"text-align: right;\">\n",
       "      <th></th>\n",
       "      <th>competitorname</th>\n",
       "      <th>chocolate</th>\n",
       "      <th>fruity</th>\n",
       "      <th>caramel</th>\n",
       "      <th>peanutyalmondy</th>\n",
       "      <th>nougat</th>\n",
       "      <th>crispedricewafer</th>\n",
       "      <th>hard</th>\n",
       "      <th>bar</th>\n",
       "      <th>pluribus</th>\n",
       "      <th>sugarpercent</th>\n",
       "      <th>pricepercent</th>\n",
       "      <th>winpercent</th>\n",
       "    </tr>\n",
       "  </thead>\n",
       "  <tbody>\n",
       "    <tr>\n",
       "      <th>0</th>\n",
       "      <td>100 Grand</td>\n",
       "      <td>True</td>\n",
       "      <td>False</td>\n",
       "      <td>True</td>\n",
       "      <td>False</td>\n",
       "      <td>False</td>\n",
       "      <td>True</td>\n",
       "      <td>False</td>\n",
       "      <td>True</td>\n",
       "      <td>False</td>\n",
       "      <td>0.732</td>\n",
       "      <td>0.860</td>\n",
       "      <td>66.971725</td>\n",
       "    </tr>\n",
       "    <tr>\n",
       "      <th>1</th>\n",
       "      <td>3 Musketeers</td>\n",
       "      <td>True</td>\n",
       "      <td>False</td>\n",
       "      <td>False</td>\n",
       "      <td>False</td>\n",
       "      <td>True</td>\n",
       "      <td>False</td>\n",
       "      <td>False</td>\n",
       "      <td>True</td>\n",
       "      <td>False</td>\n",
       "      <td>0.604</td>\n",
       "      <td>0.511</td>\n",
       "      <td>67.602936</td>\n",
       "    </tr>\n",
       "    <tr>\n",
       "      <th>2</th>\n",
       "      <td>One dime</td>\n",
       "      <td>False</td>\n",
       "      <td>False</td>\n",
       "      <td>False</td>\n",
       "      <td>False</td>\n",
       "      <td>False</td>\n",
       "      <td>False</td>\n",
       "      <td>False</td>\n",
       "      <td>False</td>\n",
       "      <td>False</td>\n",
       "      <td>0.011</td>\n",
       "      <td>0.116</td>\n",
       "      <td>32.261086</td>\n",
       "    </tr>\n",
       "    <tr>\n",
       "      <th>3</th>\n",
       "      <td>One quarter</td>\n",
       "      <td>False</td>\n",
       "      <td>False</td>\n",
       "      <td>False</td>\n",
       "      <td>False</td>\n",
       "      <td>False</td>\n",
       "      <td>False</td>\n",
       "      <td>False</td>\n",
       "      <td>False</td>\n",
       "      <td>False</td>\n",
       "      <td>0.011</td>\n",
       "      <td>0.511</td>\n",
       "      <td>46.116505</td>\n",
       "    </tr>\n",
       "    <tr>\n",
       "      <th>4</th>\n",
       "      <td>Air Heads</td>\n",
       "      <td>False</td>\n",
       "      <td>True</td>\n",
       "      <td>False</td>\n",
       "      <td>False</td>\n",
       "      <td>False</td>\n",
       "      <td>False</td>\n",
       "      <td>False</td>\n",
       "      <td>False</td>\n",
       "      <td>False</td>\n",
       "      <td>0.906</td>\n",
       "      <td>0.511</td>\n",
       "      <td>52.341465</td>\n",
       "    </tr>\n",
       "    <tr>\n",
       "      <th>5</th>\n",
       "      <td>Almond Joy</td>\n",
       "      <td>True</td>\n",
       "      <td>False</td>\n",
       "      <td>False</td>\n",
       "      <td>True</td>\n",
       "      <td>False</td>\n",
       "      <td>False</td>\n",
       "      <td>False</td>\n",
       "      <td>True</td>\n",
       "      <td>False</td>\n",
       "      <td>0.465</td>\n",
       "      <td>0.767</td>\n",
       "      <td>50.347546</td>\n",
       "    </tr>\n",
       "    <tr>\n",
       "      <th>6</th>\n",
       "      <td>Baby Ruth</td>\n",
       "      <td>True</td>\n",
       "      <td>False</td>\n",
       "      <td>True</td>\n",
       "      <td>True</td>\n",
       "      <td>True</td>\n",
       "      <td>False</td>\n",
       "      <td>False</td>\n",
       "      <td>True</td>\n",
       "      <td>False</td>\n",
       "      <td>0.604</td>\n",
       "      <td>0.767</td>\n",
       "      <td>56.914547</td>\n",
       "    </tr>\n",
       "    <tr>\n",
       "      <th>7</th>\n",
       "      <td>Boston Baked Beans</td>\n",
       "      <td>False</td>\n",
       "      <td>False</td>\n",
       "      <td>False</td>\n",
       "      <td>True</td>\n",
       "      <td>False</td>\n",
       "      <td>False</td>\n",
       "      <td>False</td>\n",
       "      <td>False</td>\n",
       "      <td>True</td>\n",
       "      <td>0.313</td>\n",
       "      <td>0.511</td>\n",
       "      <td>23.417824</td>\n",
       "    </tr>\n",
       "    <tr>\n",
       "      <th>8</th>\n",
       "      <td>Candy Corn</td>\n",
       "      <td>False</td>\n",
       "      <td>False</td>\n",
       "      <td>False</td>\n",
       "      <td>False</td>\n",
       "      <td>False</td>\n",
       "      <td>False</td>\n",
       "      <td>False</td>\n",
       "      <td>False</td>\n",
       "      <td>True</td>\n",
       "      <td>0.906</td>\n",
       "      <td>0.325</td>\n",
       "      <td>38.010963</td>\n",
       "    </tr>\n",
       "    <tr>\n",
       "      <th>9</th>\n",
       "      <td>Caramel Apple Pops</td>\n",
       "      <td>False</td>\n",
       "      <td>True</td>\n",
       "      <td>True</td>\n",
       "      <td>False</td>\n",
       "      <td>False</td>\n",
       "      <td>False</td>\n",
       "      <td>False</td>\n",
       "      <td>False</td>\n",
       "      <td>False</td>\n",
       "      <td>0.604</td>\n",
       "      <td>0.325</td>\n",
       "      <td>34.517681</td>\n",
       "    </tr>\n",
       "  </tbody>\n",
       "</table>\n",
       "</div>"
      ],
      "text/plain": [
       "       competitorname  chocolate  fruity  caramel  peanutyalmondy  nougat  \\\n",
       "0           100 Grand       True   False     True           False   False   \n",
       "1        3 Musketeers       True   False    False           False    True   \n",
       "2            One dime      False   False    False           False   False   \n",
       "3         One quarter      False   False    False           False   False   \n",
       "4           Air Heads      False    True    False           False   False   \n",
       "5          Almond Joy       True   False    False            True   False   \n",
       "6           Baby Ruth       True   False     True            True    True   \n",
       "7  Boston Baked Beans      False   False    False            True   False   \n",
       "8          Candy Corn      False   False    False           False   False   \n",
       "9  Caramel Apple Pops      False    True     True           False   False   \n",
       "\n",
       "   crispedricewafer   hard    bar  pluribus  sugarpercent  pricepercent  \\\n",
       "0              True  False   True     False         0.732         0.860   \n",
       "1             False  False   True     False         0.604         0.511   \n",
       "2             False  False  False     False         0.011         0.116   \n",
       "3             False  False  False     False         0.011         0.511   \n",
       "4             False  False  False     False         0.906         0.511   \n",
       "5             False  False   True     False         0.465         0.767   \n",
       "6             False  False   True     False         0.604         0.767   \n",
       "7             False  False  False      True         0.313         0.511   \n",
       "8             False  False  False      True         0.906         0.325   \n",
       "9             False  False  False     False         0.604         0.325   \n",
       "\n",
       "   winpercent  \n",
       "0   66.971725  \n",
       "1   67.602936  \n",
       "2   32.261086  \n",
       "3   46.116505  \n",
       "4   52.341465  \n",
       "5   50.347546  \n",
       "6   56.914547  \n",
       "7   23.417824  \n",
       "8   38.010963  \n",
       "9   34.517681  "
      ]
     },
     "execution_count": 2,
     "metadata": {},
     "output_type": "execute_result"
    }
   ],
   "source": [
    "df.head(10)"
   ]
  },
  {
   "cell_type": "code",
   "execution_count": 3,
   "metadata": {},
   "outputs": [
    {
     "name": "stdout",
     "output_type": "stream",
     "text": [
      "(85, 13)\n"
     ]
    }
   ],
   "source": [
    "print(df.shape)"
   ]
  },
  {
   "cell_type": "markdown",
   "metadata": {},
   "source": [
    "The unit of observation in this dataset is each individual type of candy. Each row in the dataset represents a different candy, with various attributes (such as whether it contains chocolate, whether it is fruity, its sugar percentile, etc.) being observed and recorded for that particular candy. "
   ]
  },
  {
   "cell_type": "markdown",
   "metadata": {},
   "source": [
    "For our analysis we will focus on the following two variables from the dataset:\n",
    "\n",
    "    Quantitative Variable: \"winpercent\"\n",
    "        Definition: This variable represents the overall win percentage of a candy according to 269,000 matchups. It quantifies how often a particular candy was preferred over others in head-to-head matchups.\n",
    "        Reason for Selection: The \"winpercent\" variable provides a direct measure of a candy's popularity or appeal, making it an interesting variable to analyze in relation to other factors like price or specific ingredients.\n",
    "\n",
    "    Categorical Variable: \"chocolate\"\n",
    "        Definition: This is a binary variable where 1 indicates that the candy contains chocolate, and 0 indicates that it does not.\n",
    "        Reason for Selection: Chocolate is a key ingredient in many popular candies, and exploring the ingredient in relation to the candy's win percentage can reveal insights into how chocolate influences candy preferences."
   ]
  },
  {
   "cell_type": "markdown",
   "metadata": {},
   "source": [
    "Missing Contextual Factors:\n",
    "\n",
    "    The dataset does not include demographic information about the participants who took part in the 269,000 matchups. Information such as age, geographic location, or cultural background could provide valuable context for understanding why certain candies are more popular. Without this, the data might reflect preferences specific to a particular group rather than a general consensus."
   ]
  },
  {
   "cell_type": "markdown",
   "metadata": {},
   "source": [
    "## Dataset Cleaning"
   ]
  },
  {
   "cell_type": "code",
   "execution_count": 4,
   "metadata": {},
   "outputs": [
    {
     "data": {
      "text/plain": [
       "competitorname      0\n",
       "chocolate           0\n",
       "fruity              0\n",
       "caramel             0\n",
       "peanutyalmondy      0\n",
       "nougat              0\n",
       "crispedricewafer    0\n",
       "hard                0\n",
       "bar                 0\n",
       "pluribus            0\n",
       "sugarpercent        0\n",
       "pricepercent        0\n",
       "winpercent          0\n",
       "dtype: int64"
      ]
     },
     "execution_count": 4,
     "metadata": {},
     "output_type": "execute_result"
    }
   ],
   "source": [
    "df.isna().sum()"
   ]
  },
  {
   "cell_type": "code",
   "execution_count": 5,
   "metadata": {},
   "outputs": [
    {
     "data": {
      "text/plain": [
       "array([0.73199999, 0.60399997, 0.011     , 0.90600002, 0.465     ,\n",
       "       0.31299999, 0.046     , 0.127     , 0.43000001, 0.093     ,\n",
       "       0.197     , 0.22      , 0.26699999, 0.82499999, 0.87199998,\n",
       "       0.30199999, 0.96499997, 0.84799999, 0.59299999, 0.58099997,\n",
       "       0.034     , 0.72000003, 0.40599999, 0.98799998, 0.86000001,\n",
       "       0.94099998, 0.546     , 0.069     , 0.15099999, 0.56900001,\n",
       "       0.41800001, 0.162     , 0.17399999, 0.186     ])"
      ]
     },
     "execution_count": 5,
     "metadata": {},
     "output_type": "execute_result"
    }
   ],
   "source": [
    "df['sugarpercent'].unique()  # Checking for implicit missing values"
   ]
  },
  {
   "cell_type": "code",
   "execution_count": 6,
   "metadata": {},
   "outputs": [
    {
     "data": {
      "text/plain": [
       "array([0.86000001, 0.51099998, 0.116     , 0.76700002, 0.32499999,\n",
       "       0.034     , 0.45300001, 0.465     , 0.093     , 0.91799998,\n",
       "       0.104     , 0.27900001, 0.65100002, 0.44100001, 0.97600001,\n",
       "       0.023     , 0.83700001, 0.96499997, 0.069     , 0.081     ,\n",
       "       0.22      , 0.058     , 0.755     , 0.011     , 0.255     ,\n",
       "       0.90600002, 0.31299999, 0.26699999, 0.84799999])"
      ]
     },
     "execution_count": 6,
     "metadata": {},
     "output_type": "execute_result"
    }
   ],
   "source": [
    "df['pricepercent'].unique() # Checking for implicit missing values"
   ]
  },
  {
   "cell_type": "code",
   "execution_count": 7,
   "metadata": {},
   "outputs": [
    {
     "data": {
      "text/plain": [
       "array([66.971725, 67.602936, 32.261086, 46.116505, 52.341465, 50.347546,\n",
       "       56.914547, 23.417824, 38.010963, 34.517681, 38.975037, 36.017628,\n",
       "       24.524988, 42.272076, 39.460556, 43.088924, 39.185505, 46.783348,\n",
       "       57.11974 , 34.158958, 51.41243 , 42.178772, 55.375454, 62.284481,\n",
       "       56.490501, 59.236122, 28.127439, 57.21925 , 76.7686  , 41.389557,\n",
       "       39.141056, 52.911392, 71.46505 , 66.574585, 46.411716, 55.064072,\n",
       "       73.099556, 60.800701, 64.35334 , 47.829754, 54.526451, 55.354046,\n",
       "       70.735641, 66.47068 , 22.445341, 39.4468  , 46.296597, 69.483788,\n",
       "       37.722336, 41.265511, 37.348522, 81.866257, 84.18029 , 73.43499 ,\n",
       "       72.887901, 35.290756, 65.716286, 29.703691, 42.849144, 34.722   ,\n",
       "       63.08514 , 55.103695, 37.887188, 45.995827, 76.673782, 59.529251,\n",
       "       59.863998, 52.825947, 67.037628, 34.578991, 33.43755 , 32.230995,\n",
       "       27.303865, 54.861111, 48.982651, 43.068897, 45.736748, 49.653503,\n",
       "       47.173229, 81.642914, 45.466282, 39.011898, 44.375519, 41.904308,\n",
       "       49.524113])"
      ]
     },
     "execution_count": 7,
     "metadata": {},
     "output_type": "execute_result"
    }
   ],
   "source": [
    "df['winpercent'].unique()  # Checking for implicit missing values"
   ]
  },
  {
   "cell_type": "markdown",
   "metadata": {},
   "source": [
    "# As seen above there are no null values in the data.\n",
    "Additionally, there are no implicit missing values such as -1 or 999 that need to be converted into missing values.\n",
    "Ultimately, we have no explicit or implicit missing values, therefor we cannot drop any missing values."
   ]
  },
  {
   "cell_type": "code",
   "execution_count": 8,
   "metadata": {},
   "outputs": [
    {
     "data": {
      "text/plain": [
       "array(['100 Grand', '3 Musketeers', 'One dime', 'One quarter',\n",
       "       'Air Heads', 'Almond Joy', 'Baby Ruth', 'Boston Baked Beans',\n",
       "       'Candy Corn', 'Caramel Apple Pops', 'Charleston Chew',\n",
       "       'Chewey Lemonhead Fruit Mix', 'Chiclets', 'Dots', 'Dum Dums',\n",
       "       'Fruit Chews', 'Fun Dip', 'Gobstopper', 'Haribo Gold Bears',\n",
       "       'Haribo Happy Cola', 'Haribo Sour Bears', 'Haribo Twin Snakes',\n",
       "       \"Hershey's Kisses\", \"Hershey's Krackel\",\n",
       "       \"Hershey's Milk Chocolate\", \"Hershey's Special Dark\", 'Jawbusters',\n",
       "       'Junior Mints', 'Kit Kat', 'Laffy Taffy', 'Lemonhead',\n",
       "       'Lifesavers big ring gummies', \"Peanut butter M&M's\", \"M&M's\",\n",
       "       'Mike & Ike', 'Milk Duds', 'Milky Way', 'Milky Way Midnight',\n",
       "       'Milky Way Simply Caramel', 'Mounds', 'Mr Good Bar', 'Nerds',\n",
       "       'Nestle Butterfinger', 'Nestle Crunch', 'Nik L Nip', 'Now & Later',\n",
       "       'Payday', 'Peanut M&Ms', 'Pixie Sticks', 'Pop Rocks', 'Red vines',\n",
       "       \"Reese's Miniatures\", \"Reese's Peanut Butter cup\",\n",
       "       \"Reese's pieces\", \"Reese's stuffed with pieces\", 'Ring pop',\n",
       "       'Rolo', 'Root Beer Barrels', 'Runts', 'Sixlets',\n",
       "       'Skittles original', 'Skittles wildberry', 'Nestle Smarties',\n",
       "       'Smarties candy', 'Snickers', 'Snickers Crisper',\n",
       "       'Sour Patch Kids', 'Sour Patch Tricksters', 'Starburst',\n",
       "       'Strawberry bon bons', 'Sugar Babies', 'Sugar Daddy',\n",
       "       'Super Bubble', 'Swedish Fish', 'Tootsie Pop',\n",
       "       'Tootsie Roll Juniors', 'Tootsie Roll Midgies',\n",
       "       'Tootsie Roll Snack Bars', 'Trolli Sour Bites', 'Twix',\n",
       "       'Twizzlers', 'Warheads', \"Welch's Fruit Snacks\",\n",
       "       \"Werther's Original Caramel\", 'Whoppers'], dtype=object)"
      ]
     },
     "execution_count": 8,
     "metadata": {},
     "output_type": "execute_result"
    }
   ],
   "source": [
    "df['competitorname'].unique()"
   ]
  },
  {
   "cell_type": "code",
   "execution_count": 9,
   "metadata": {},
   "outputs": [
    {
     "data": {
      "text/plain": [
       "competitorname\n",
       "100 Grand                     1\n",
       "3 Musketeers                  1\n",
       "One dime                      1\n",
       "One quarter                   1\n",
       "Air Heads                     1\n",
       "                             ..\n",
       "Twizzlers                     1\n",
       "Warheads                      1\n",
       "Welch's Fruit Snacks          1\n",
       "Werther's Original Caramel    1\n",
       "Whoppers                      1\n",
       "Name: count, Length: 85, dtype: int64"
      ]
     },
     "execution_count": 9,
     "metadata": {},
     "output_type": "execute_result"
    }
   ],
   "source": [
    "df['competitorname'].value_counts()"
   ]
  },
  {
   "cell_type": "markdown",
   "metadata": {},
   "source": [
    "Since each entry represents the name of a candy they are all unique by design. \n",
    "Therefore we do not need to combine any uncommon values.\n"
   ]
  },
  {
   "cell_type": "code",
   "execution_count": 10,
   "metadata": {},
   "outputs": [
    {
     "data": {
      "text/plain": [
       "<function matplotlib.pyplot.show(close=None, block=None)>"
      ]
     },
     "execution_count": 10,
     "metadata": {},
     "output_type": "execute_result"
    },
    {
     "data": {
      "image/png": "[encoded data removed]",
      "text/plain": [
       "<Figure size 640x480 with 1 Axes>"
      ]
     },
     "metadata": {},
     "output_type": "display_data"
    }
   ],
   "source": [
    "sns.boxplot(y = df['winpercent'])\n",
    "plt.show"
   ]
  },
  {
   "cell_type": "code",
   "execution_count": 11,
   "metadata": {},
   "outputs": [
    {
     "data": {
      "text/plain": [
       "<function matplotlib.pyplot.show(close=None, block=None)>"
      ]
     },
     "execution_count": 11,
     "metadata": {},
     "output_type": "execute_result"
    },
    {
     "data": {
      "image/png": "[encoded data removed]",
      "text/plain": [
       "<Figure size 640x480 with 1 Axes>"
      ]
     },
     "metadata": {},
     "output_type": "display_data"
    }
   ],
   "source": [
    "df['winpercent'].plot.hist(bins = 10)\n",
    "plt.title('Histogram of Winpercent')\n",
    "plt.xlabel('Winpercent')\n",
    "plt.ylim(0,17.5)\n",
    "plt.show"
   ]
  },
  {
   "cell_type": "code",
   "execution_count": 12,
   "metadata": {},
   "outputs": [
    {
     "data": {
      "text/plain": [
       "<function matplotlib.pyplot.show(close=None, block=None)>"
      ]
     },
     "execution_count": 12,
     "metadata": {},
     "output_type": "execute_result"
    },
    {
     "data": {
      "image/png": "[encoded data removed]",
      "text/plain": [
       "<Figure size 640x480 with 1 Axes>"
      ]
     },
     "metadata": {},
     "output_type": "display_data"
    }
   ],
   "source": [
    "sns.boxplot(y = df['pricepercent'])\n",
    "plt.show"
   ]
  },
  {
   "cell_type": "code",
   "execution_count": 13,
   "metadata": {},
   "outputs": [
    {
     "data": {
      "text/plain": [
       "<function matplotlib.pyplot.show(close=None, block=None)>"
      ]
     },
     "execution_count": 13,
     "metadata": {},
     "output_type": "execute_result"
    },
    {
     "data": {
      "image/png": "[encoded data removed]",
      "text/plain": [
       "<Figure size 640x480 with 1 Axes>"
      ]
     },
     "metadata": {},
     "output_type": "display_data"
    }
   ],
   "source": [
    "df['pricepercent'].plot.hist(bins = 8)\n",
    "plt.title('Histogram of pricepercent')\n",
    "plt.xlabel('pricepercent')\n",
    "#plt.ylim(0,17.5)\n",
    "plt.show"
   ]
  },
  {
   "cell_type": "code",
   "execution_count": 14,
   "metadata": {},
   "outputs": [
    {
     "data": {
      "text/plain": [
       "<function matplotlib.pyplot.show(close=None, block=None)>"
      ]
     },
     "execution_count": 14,
     "metadata": {},
     "output_type": "execute_result"
    },
    {
     "data": {
      "image/png": "[encoded data removed]",
      "text/plain": [
       "<Figure size 640x480 with 1 Axes>"
      ]
     },
     "metadata": {},
     "output_type": "display_data"
    }
   ],
   "source": [
    "sns.boxplot(y = df['sugarpercent'])\n",
    "plt.show"
   ]
  },
  {
   "cell_type": "code",
   "execution_count": 15,
   "metadata": {},
   "outputs": [
    {
     "data": {
      "text/plain": [
       "<function matplotlib.pyplot.show(close=None, block=None)>"
      ]
     },
     "execution_count": 15,
     "metadata": {},
     "output_type": "execute_result"
    },
    {
     "data": {
      "image/png": "[encoded data removed]",
      "text/plain": [
       "<Figure size 640x480 with 1 Axes>"
      ]
     },
     "metadata": {},
     "output_type": "display_data"
    }
   ],
   "source": [
    "df['sugarpercent'].plot.hist(bins = 8)\n",
    "plt.title('Histogram of sugarpercent')\n",
    "plt.xlabel('sugarpercent')\n",
    "plt.show"
   ]
  },
  {
   "cell_type": "code",
   "execution_count": 16,
   "metadata": {},
   "outputs": [],
   "source": [
    "# From the distributions of the quantitative variables above, we can see that there are no values that are concerning.\n",
    "# The 'sugarpercent' distribution is slighly right skewed with most of the values below 0.8, but there are no outliers present.\n",
    "# The 'pricepercent' distribution seems to be somewhat uniform with no clear outliers seen.\n",
    "# The 'Winpercent' distribution looks normal with no extreme deviations.\n",
    "# Based off of the distributions above, there are no concerning observations found. Therefore, I won't drop any observations for these variables.\n",
    "# Overall, the dataset was well prepared for analysis (no missing values / uncommon values) so no further cleaning was necessary."
   ]
  },
  {
   "cell_type": "markdown",
   "metadata": {},
   "source": [
    "## Summarizing Data"
   ]
  },
  {
   "cell_type": "markdown",
   "metadata": {},
   "source": [
    "What is the relationship between chocolate and win percentage?\n",
    "Apart from that, what is the relationship between any of the other boolean values and win percentage? What is the most common boolean value shared amongst the winners? The losers?"
   ]
  },
  {
   "cell_type": "code",
   "execution_count": 17,
   "metadata": {},
   "outputs": [
    {
     "name": "stdout",
     "output_type": "stream",
     "text": [
      "39 Winners, 46 Losers\n",
      "competitorname      Reese's Peanut Butter cupReese's MiniaturesTwi...\n",
      "chocolate                                                          28\n",
      "fruity                                                             11\n",
      "caramel                                                            10\n",
      "peanutyalmondy                                                     12\n",
      "nougat                                                              5\n",
      "crispedricewafer                                                    6\n",
      "hard                                                                1\n",
      "bar                                                                17\n",
      "pluribus                                                           17\n",
      "sugarpercent                                                   20.838\n",
      "pricepercent                                                   22.634\n",
      "winpercent                                                2479.633289\n",
      "dtype: object competitorname      Tootsie Roll Snack BarsWhoppersTootsie PopMoun...\n",
      "chocolate                                                           9\n",
      "fruity                                                             27\n",
      "caramel                                                             4\n",
      "peanutyalmondy                                                      2\n",
      "nougat                                                              2\n",
      "crispedricewafer                                                    1\n",
      "hard                                                               14\n",
      "bar                                                                 4\n",
      "pluribus                                                           27\n",
      "sugarpercent                                                   19.847\n",
      "pricepercent                                                   17.221\n",
      "winpercent                                                1797.291635\n",
      "dtype: object\n",
      "The chance of a winner being chocolate is 0.717948717948718, while the chance of a loser being chocolate is 0.1956521739130435\n"
     ]
    },
    {
     "data": {
      "image/png": "[encoded data removed]",
      "text/plain": [
       "<Figure size 640x480 with 1 Axes>"
      ]
     },
     "metadata": {},
     "output_type": "display_data"
    }
   ],
   "source": [
    "df = df.nlargest(85, \"winpercent\")\n",
    "winners = df[df.winpercent > 50]\n",
    "losers = df[df.winpercent <= 50]\n",
    "print(f\"{len(winners)} Winners, {len(losers)} Losers\")\n",
    "winner_count = winners.sum()\n",
    "loser_count = losers.sum()\n",
    "print(winner_count, loser_count)\n",
    "winners[\"winpercent\"].hist()\n",
    "losers[\"winpercent\"].hist()\n",
    "print(f\"The chance of a winner being chocolate is {winners[\"chocolate\"].sum()/len(winners)}, while the chance of a loser being chocolate is {losers[\"chocolate\"].sum()/len(losers)}\")"
   ]
  },
  {
   "cell_type": "code",
   "execution_count": 18,
   "metadata": {},
   "outputs": [
    {
     "data": {
      "text/plain": [
       "<Axes: >"
      ]
     },
     "execution_count": 18,
     "metadata": {},
     "output_type": "execute_result"
    },
    {
     "data": {
      "image/png": "[encoded data removed]",
      "text/plain": [
       "<Figure size 640x480 with 1 Axes>"
      ]
     },
     "metadata": {},
     "output_type": "display_data"
    }
   ],
   "source": [
    "df[df[\"fruity\"] == True][\"winpercent\"].hist()"
   ]
  },
  {
   "cell_type": "code",
   "execution_count": 19,
   "metadata": {},
   "outputs": [
    {
     "data": {
      "text/plain": [
       "<Axes: >"
      ]
     },
     "execution_count": 19,
     "metadata": {},
     "output_type": "execute_result"
    },
    {
     "data": {
      "image/png": "[encoded data removed]",
      "text/plain": [
       "<Figure size 640x480 with 1 Axes>"
      ]
     },
     "metadata": {},
     "output_type": "display_data"
    }
   ],
   "source": [
    "df[df[\"chocolate\"] == True][\"winpercent\"].hist()\n",
    "#This will show a clear lean towards the winning percentages. Stats have shown that chocolate is indeed popular."
   ]
  },
  {
   "cell_type": "code",
   "execution_count": 20,
   "metadata": {},
   "outputs": [
    {
     "data": {
      "text/plain": [
       "<Axes: >"
      ]
     },
     "execution_count": 20,
     "metadata": {},
     "output_type": "execute_result"
    },
    {
     "data": {
      "image/png": "[encoded data removed]",
      "text/plain": [
       "<Figure size 640x480 with 1 Axes>"
      ]
     },
     "metadata": {},
     "output_type": "display_data"
    }
   ],
   "source": [
    "df[df[\"crispedricewafer\"] == True][\"winpercent\"].hist()"
   ]
  },
  {
   "cell_type": "code",
   "execution_count": 21,
   "metadata": {},
   "outputs": [
    {
     "data": {
      "text/plain": [
       "<Axes: >"
      ]
     },
     "execution_count": 21,
     "metadata": {},
     "output_type": "execute_result"
    },
    {
     "data": {
      "image/png": "[encoded data removed]",
      "text/plain": [
       "<Figure size 640x480 with 1 Axes>"
      ]
     },
     "metadata": {},
     "output_type": "display_data"
    }
   ],
   "source": [
    "df[df[\"hard\"] == True][\"winpercent\"].hist()"
   ]
  },
  {
   "cell_type": "code",
   "execution_count": 22,
   "metadata": {},
   "outputs": [
    {
     "data": {
      "text/html": [
       "<div>\n",
       "<style scoped>\n",
       "    .dataframe tbody tr th:only-of-type {\n",
       "        vertical-align: middle;\n",
       "    }\n",
       "\n",
       "    .dataframe tbody tr th {\n",
       "        vertical-align: top;\n",
       "    }\n",
       "\n",
       "    .dataframe thead th {\n",
       "        text-align: right;\n",
       "    }\n",
       "</style>\n",
       "<table border=\"1\" class=\"dataframe\">\n",
       "  <thead>\n",
       "    <tr style=\"text-align: right;\">\n",
       "      <th></th>\n",
       "      <th>proportion of winners</th>\n",
       "      <th>proportion of losers</th>\n",
       "      <th>win/loss ratio</th>\n",
       "    </tr>\n",
       "  </thead>\n",
       "  <tbody>\n",
       "    <tr>\n",
       "      <th>chocolate</th>\n",
       "      <td>0.717949</td>\n",
       "      <td>0.195652</td>\n",
       "      <td>3.669516</td>\n",
       "    </tr>\n",
       "    <tr>\n",
       "      <th>fruity</th>\n",
       "      <td>0.282051</td>\n",
       "      <td>0.586957</td>\n",
       "      <td>0.480532</td>\n",
       "    </tr>\n",
       "    <tr>\n",
       "      <th>caramel</th>\n",
       "      <td>0.256410</td>\n",
       "      <td>0.086957</td>\n",
       "      <td>2.948718</td>\n",
       "    </tr>\n",
       "    <tr>\n",
       "      <th>peanuty/almondy</th>\n",
       "      <td>0.307692</td>\n",
       "      <td>0.043478</td>\n",
       "      <td>7.076923</td>\n",
       "    </tr>\n",
       "    <tr>\n",
       "      <th>nougat</th>\n",
       "      <td>0.128205</td>\n",
       "      <td>0.043478</td>\n",
       "      <td>2.948718</td>\n",
       "    </tr>\n",
       "    <tr>\n",
       "      <th>crisped rice wafer</th>\n",
       "      <td>0.153846</td>\n",
       "      <td>0.021739</td>\n",
       "      <td>7.076923</td>\n",
       "    </tr>\n",
       "    <tr>\n",
       "      <th>hard</th>\n",
       "      <td>0.025641</td>\n",
       "      <td>0.304348</td>\n",
       "      <td>0.084249</td>\n",
       "    </tr>\n",
       "    <tr>\n",
       "      <th>bar</th>\n",
       "      <td>0.435897</td>\n",
       "      <td>0.086957</td>\n",
       "      <td>5.012821</td>\n",
       "    </tr>\n",
       "    <tr>\n",
       "      <th>pluribus</th>\n",
       "      <td>0.435897</td>\n",
       "      <td>0.586957</td>\n",
       "      <td>0.742640</td>\n",
       "    </tr>\n",
       "  </tbody>\n",
       "</table>\n",
       "</div>"
      ],
      "text/plain": [
       "                    proportion of winners  proportion of losers  \\\n",
       "chocolate                        0.717949              0.195652   \n",
       "fruity                           0.282051              0.586957   \n",
       "caramel                          0.256410              0.086957   \n",
       "peanuty/almondy                  0.307692              0.043478   \n",
       "nougat                           0.128205              0.043478   \n",
       "crisped rice wafer               0.153846              0.021739   \n",
       "hard                             0.025641              0.304348   \n",
       "bar                              0.435897              0.086957   \n",
       "pluribus                         0.435897              0.586957   \n",
       "\n",
       "                    win/loss ratio  \n",
       "chocolate                 3.669516  \n",
       "fruity                    0.480532  \n",
       "caramel                   2.948718  \n",
       "peanuty/almondy           7.076923  \n",
       "nougat                    2.948718  \n",
       "crisped rice wafer        7.076923  \n",
       "hard                      0.084249  \n",
       "bar                       5.012821  \n",
       "pluribus                  0.742640  "
      ]
     },
     "execution_count": 22,
     "metadata": {},
     "output_type": "execute_result"
    }
   ],
   "source": [
    "proportions = pd.DataFrame({\"proportion of winners\": [float(winners[\"chocolate\"].sum()/len(winners)), float(winners[\"fruity\"].sum()/len(winners)), float(winners[\"caramel\"].sum()/len(winners)), float(winners[\"peanutyalmondy\"].sum()/len(winners)), float(winners[\"nougat\"].sum()/len(winners)), float(winners[\"crispedricewafer\"].sum()/len(winners)), float(winners[\"hard\"].sum()/len(winners)), float(winners[\"bar\"].sum()/len(winners)), float(winners[\"pluribus\"].sum()/len(winners))], \"proportion of losers\": [float(losers[\"chocolate\"].sum()/len(losers)), float(losers[\"fruity\"].sum()/len(losers)), float(losers[\"caramel\"].sum()/len(losers)), float(losers[\"peanutyalmondy\"].sum()/len(losers)), float(losers[\"nougat\"].sum()/len(losers)), float(losers[\"crispedricewafer\"].sum()/len(losers)), float(losers[\"hard\"].sum()/len(losers)), float(losers[\"bar\"].sum()/len(losers)), float(losers[\"pluribus\"].sum()/len(losers))]}, index = [\"chocolate\", \"fruity\", \"caramel\", \"peanuty/almondy\", \"nougat\", \"crisped rice wafer\", \"hard\", \"bar\", \"pluribus\"])\n",
    "proportions[\"win/loss ratio\"] = proportions[\"proportion of winners\"]/proportions[\"proportion of losers\"]\n",
    "proportions"
   ]
  },
  {
   "cell_type": "markdown",
   "metadata": {},
   "source": [
    "Through the graphs, we were able to observe a visual difference in the win percentage for each of the winning candies and the losing candies. The distribution of win percentages for each different categorical variable is around the same, and while chocolate is a majority-popular candy, it is popular for manufacturers of good and bad candy, so it has the widest win percentage range. while the table showed the proportions of which types of candies were on which side, and the ratio of which candies appeared on the winning side per the number of times they were on the losing side. These summaries all provide insight into how the likelihood of winning would be affected by what type/types of candy that a competitor might be.\n",
    "\n",
    "The more extreme-tending variables seem to be chocolate (highest proportion of winners), fruity (tied for highest proportion of losers), pluribus (closest to 1.0 win/loss ratio and tied with fruity for largest loss proportion), and \"hard\" for the highest win rate. While these factors do not mess with the data or bring it to question, it is interesting to consider the patterns displayed in these variables. The two most popular candy types were not chocolate, but in fact \"peanuty/almondy\" and \"crisped rice wafer\", with \"bar\" in third place. If I were to guess why I would say it is because they are more particular of a type, but it could even have to do with outside factors or random chance why they were more popular. "
   ]
  },
  {
   "cell_type": "markdown",
   "metadata": {},
   "source": [
    "## Any other type of analysis/question you want to explore with this dataset.\n",
    "\n",
    "<u>Why?</u>: Sometimes undergraduate students will put the research projects that they did for their classes on their resumes when applying for graduate schools, internships, and jobs. If you're interested in showcasing cool analyses to write on your resume, this section could help with that. **(This section is not worth any points though).**"
   ]
  },
  {
   "cell_type": "markdown",
   "metadata": {},
   "source": [
    "## Conclusion"
   ]
  },
  {
   "cell_type": "markdown",
   "metadata": {},
   "source": [
    "After looking at statistics and distributions from the dataset, we found that the dataset was clean. There were no missing values or significant outliers in the quantitative variables. Additionally, we found no uncommon categorical values so no rows were dropped. The unit of observation is each type of candy, with \"winpercent\" as the quantitative variable and \"chocolate\" as the categorical variable. Key limitations include the lack of demographic context and scopes of variables, marketing influence, which may affect the interpretation of candy preferences in our data set. I think this dataset could be very useful for any company making these candies or anyone interested in the popularities of candies, so they can understand what is popular and what isn't. The categories can even help them understand what types of candy have been working the best and what types have not.\n",
    "\n",
    "The visual graphics show that the candy types tend to stay in their own ranges for win percentage, and the histograms along with the proportion table shows visually and numerically how much more popular each candy type is. Chocolate is clearly the most popular "
   ]
  }
 ],
 "metadata": {
  "kernelspec": {
   "display_name": "Python 3 (ipykernel)",
   "language": "python",
   "name": "python3"
  },
  "language_info": {
   "codemirror_mode": {
    "name": "ipython",
    "version": 3
   },
   "file_extension": ".py",
   "mimetype": "text/x-python",
   "name": "python",
   "nbconvert_exporter": "python",
   "pygments_lexer": "ipython3",
   "version": "3.12.3"
  }
 },
 "nbformat": 4,
 "nbformat_minor": 4
}
